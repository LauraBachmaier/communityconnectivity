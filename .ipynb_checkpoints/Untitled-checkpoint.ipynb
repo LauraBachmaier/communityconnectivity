{
 "cells": [
  {
   "cell_type": "code",
   "execution_count": null,
   "id": "c10742c1-ed14-4452-abbd-6e05aa2e6c50",
   "metadata": {},
   "outputs": [],
   "source": []
  }
 ],
 "metadata": {
  "kernelspec": {
   "display_name": "Python 3 (ipykernel)",
   "language": "python",
   "name": "python3"
  },
  "language_info": {
   "codemirror_mode": {
    "name": "ipython",
    "version": 3
   },
   "file_extension": ".py",
   "mimetype": "text/x-python",
   "name": "python",
   "nbconvert_exporter": "python",
   "pygments_lexer": "ipython3",
   "version": "3.9.0"
  }
 },
 "nbformat": 4,
 "nbformat_minor": 5
}
